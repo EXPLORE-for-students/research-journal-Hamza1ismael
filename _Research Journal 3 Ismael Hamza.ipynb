{
 "cells": [
  {
   "cell_type": "markdown",
   "metadata": {},
   "source": [
    "# Research Notebook\n",
    "## ISMAEL HAMZA ISMAEL\n",
    "## Date: 27th/03/2025"
   ]
  },
  {
   "cell_type": "markdown",
   "metadata": {},
   "source": [
    "# 1: Experience\n",
    "## Describe at least one research activity you worked on this week. \n",
    "\n",
    "We ran a simulation concerning the variations in Black hole Eddington factor(BHEF) the data from which were to be plotted at redshift 0. \n",
    "We also carried out a simulation of BH accretion at different radiative efficiencies and the results were to be plotted at redshift 0.\n",
    "We will finally compare our plots to an observational paper.\n",
    "We also started putting the results from our research together in a presentation document for the next week's presentations.\n",
    "\n",
    "## Motivation:\n",
    "\n",
    "Throughout our research we have been interested in the accretion of BHs to very large masses and the conditions that faciliate this growth. So we tried varying different parameters in succession in order to understand this supermassive BHs phenomenon. So these simulations are a continuing theme in our research."
   ]
  },
  {
   "cell_type": "markdown",
   "metadata": {},
   "source": [
    "# 2: What? (What happened?)\n",
    "## Describe what happened during your activities for the week.\n",
    "\n",
    "I ran two simulations, one where I changed the BHEF to 3 and the other in which I changed the radiative efficiency to 0.01. The other group members changed their corresponding parameters to other values than the default ones. We will then compare the plots with different parameter values. These will then be compared to a review paper to see if there's any match."
   ]
  },
  {
   "cell_type": "markdown",
   "metadata": {},
   "source": [
    "# 3: So what? (What does it mean?)\n",
    "## Describe your results\n",
    "\n",
    "We will complete the analysis of all these simulation results and put them in a presentation style document in preparation for next week's presentation.\n",
    "The analysis on the simulations and the presentation document and the cross-reference to the review paper shall all be completed before next week's presentations on Friday.\n",
    "Unfortunately, I can't describe the results since the simulations are not yet over. There has been, a downtime with the supercomputers at Niagara for the past few days. We will complete the analysis before next week and include it in the presentation document"
   ]
  },
  {
   "cell_type": "markdown",
   "metadata": {},
   "source": [
    "# 4. Now what? (What's next?)\n",
    "## Plan for the next week\n",
    "\n",
    "Before Friday next week, the idea is to put together all these pieces in one harmonized document which will be presented in the research meeting."
   ]
  },
  {
   "cell_type": "markdown",
   "metadata": {},
   "source": [
    "# 5. Bibliography\n",
    "\n",
    "Your references here"
   ]
  },
  {
   "cell_type": "markdown",
   "metadata": {},
   "source": [
    "# Grading\n",
    "\n",
    "| Category       | Points      |\n",
    "| ------------- |:------------:|\n",
    "| Formatting    |       2 / 2       |\n",
    "| Experience    |       2 / 2       |\n",
    "| What?         |       2 / 2       |\n",
    "| So what?      |       2 / 4       |\n",
    "| Now what?     |       4 / 4       |\n",
    "| Bibliography  |       0 / 3       |\n",
    "| Style         |       3 / 3       |\n",
    "| Total         |     15 / 20       |"
   ]
  },
  {
   "cell_type": "markdown",
   "metadata": {},
   "source": [
    "## Additional comments\n",
    "You could've cited the paper that you compared your results to. Also, you could've expanded a bit more on what you've done since research journal 2 if your simulations did not yet produce a result."
   ]
  },
  {
   "cell_type": "code",
   "execution_count": null,
   "metadata": {},
   "outputs": [],
   "source": []
  }
 ],
 "metadata": {
  "kernelspec": {
   "display_name": "Python 3 (ipykernel)",
   "language": "python",
   "name": "python3"
  },
  "language_info": {
   "codemirror_mode": {
    "name": "ipython",
    "version": 3
   },
   "file_extension": ".py",
   "mimetype": "text/x-python",
   "name": "python",
   "nbconvert_exporter": "python",
   "pygments_lexer": "ipython3",
   "version": "3.13.2"
  }
 },
 "nbformat": 4,
 "nbformat_minor": 4
}
